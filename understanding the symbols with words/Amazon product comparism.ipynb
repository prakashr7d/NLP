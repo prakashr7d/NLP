{
 "cells": [
  {
   "cell_type": "code",
   "execution_count": 1,
   "id": "aa423689",
   "metadata": {},
   "outputs": [],
   "source": [
    "import gensim\n",
    "import pandas as pd"
   ]
  },
  {
   "cell_type": "code",
   "execution_count": 2,
   "id": "00a757aa",
   "metadata": {},
   "outputs": [],
   "source": [
    "data = pd.read_csv(r'Report - Sheet.csv')"
   ]
  },
  {
   "cell_type": "code",
   "execution_count": 3,
   "id": "27dd0b1d",
   "metadata": {},
   "outputs": [
    {
     "data": {
      "text/html": [
       "<div>\n",
       "<style scoped>\n",
       "    .dataframe tbody tr th:only-of-type {\n",
       "        vertical-align: middle;\n",
       "    }\n",
       "\n",
       "    .dataframe tbody tr th {\n",
       "        vertical-align: top;\n",
       "    }\n",
       "\n",
       "    .dataframe thead th {\n",
       "        text-align: right;\n",
       "    }\n",
       "</style>\n",
       "<table border=\"1\" class=\"dataframe\">\n",
       "  <thead>\n",
       "    <tr style=\"text-align: right;\">\n",
       "      <th></th>\n",
       "      <th>UPC</th>\n",
       "      <th>Description</th>\n",
       "      <th>SIZE</th>\n",
       "      <th>ASIN</th>\n",
       "      <th>Pack_QTY</th>\n",
       "      <th>Brand</th>\n",
       "      <th>Manufacturer</th>\n",
       "      <th>Amazon\\nProduct Title</th>\n",
       "    </tr>\n",
       "  </thead>\n",
       "  <tbody>\n",
       "    <tr>\n",
       "      <th>0</th>\n",
       "      <td>28901010010</td>\n",
       "      <td>S/S 1.5 QT BOWL</td>\n",
       "      <td>1.5 QT</td>\n",
       "      <td>B000MMQ62C</td>\n",
       "      <td>1</td>\n",
       "      <td>Norpro</td>\n",
       "      <td>Norpro</td>\n",
       "      <td>Norpro 1001 , Silver Stainless Steel Bowl, 1-1...</td>\n",
       "    </tr>\n",
       "    <tr>\n",
       "      <th>1</th>\n",
       "      <td>28901010027</td>\n",
       "      <td>S/S 3 QT BOWL</td>\n",
       "      <td>3 QT</td>\n",
       "      <td>B000MMO7MI</td>\n",
       "      <td>1</td>\n",
       "      <td>Norpro</td>\n",
       "      <td>Norpro</td>\n",
       "      <td>Norpro Stainless Steel Bowl, 3-Quart, Silver</td>\n",
       "    </tr>\n",
       "    <tr>\n",
       "      <th>2</th>\n",
       "      <td>28901010034</td>\n",
       "      <td>S/S 5 QT BOWL</td>\n",
       "      <td>5 QT</td>\n",
       "      <td>B000MMKPFG</td>\n",
       "      <td>1</td>\n",
       "      <td>Norpro</td>\n",
       "      <td>Norpro</td>\n",
       "      <td>Norpro Stainless Steel Bowl, 5-Quart</td>\n",
       "    </tr>\n",
       "    <tr>\n",
       "      <th>3</th>\n",
       "      <td>28901010041</td>\n",
       "      <td>S/S 8 QT BOWL</td>\n",
       "      <td>8 QT</td>\n",
       "      <td>B000SSSS6M</td>\n",
       "      <td>1</td>\n",
       "      <td>Norpro</td>\n",
       "      <td>Norpro</td>\n",
       "      <td>Norpro Stainless Steel Bowl, 8-Quart</td>\n",
       "    </tr>\n",
       "    <tr>\n",
       "      <th>4</th>\n",
       "      <td>28901101121</td>\n",
       "      <td>12\" LAMBSWOOL DUSTER</td>\n",
       "      <td>12\"</td>\n",
       "      <td>B001CFM9OC</td>\n",
       "      <td>1</td>\n",
       "      <td>Norpro</td>\n",
       "      <td>Norpro</td>\n",
       "      <td>Norpro Pure Lambswool Duster, 12\"</td>\n",
       "    </tr>\n",
       "    <tr>\n",
       "      <th>...</th>\n",
       "      <td>...</td>\n",
       "      <td>...</td>\n",
       "      <td>...</td>\n",
       "      <td>...</td>\n",
       "      <td>...</td>\n",
       "      <td>...</td>\n",
       "      <td>...</td>\n",
       "      <td>...</td>\n",
       "    </tr>\n",
       "    <tr>\n",
       "      <th>307</th>\n",
       "      <td>811200014175</td>\n",
       "      <td>Art of Luck(Aventurine)</td>\n",
       "      <td>3.35\"</td>\n",
       "      <td>B0027L8RSW</td>\n",
       "      <td>1</td>\n",
       "      <td>Zorbitz, Inc.</td>\n",
       "      <td>Zorbitz, Inc.</td>\n",
       "      <td>Art of Luck Bracelets Wealth Luck Aventurine L...</td>\n",
       "    </tr>\n",
       "    <tr>\n",
       "      <th>308</th>\n",
       "      <td>689076516426</td>\n",
       "      <td>Feng Shui Luck Charms(Prosperity)</td>\n",
       "      <td>1.39\"</td>\n",
       "      <td>B00290QC9M</td>\n",
       "      <td>1</td>\n",
       "      <td>Zorbitz, Inc.</td>\n",
       "      <td>Zorbitz, Inc.</td>\n",
       "      <td>ZORBITZ Feng Shui Luck Charms Prosperity, 1 EA</td>\n",
       "    </tr>\n",
       "    <tr>\n",
       "      <th>309</th>\n",
       "      <td>689076516525</td>\n",
       "      <td>Feng Shui Luck Charms(Good Health)</td>\n",
       "      <td>1.39\"</td>\n",
       "      <td>B000VUZ4H8</td>\n",
       "      <td>1</td>\n",
       "      <td>Zorbitz, Inc.</td>\n",
       "      <td>Zorbitz, Inc.</td>\n",
       "      <td>ZORBITZ Feng Shui Luck Charms Good Health, 1 EA</td>\n",
       "    </tr>\n",
       "    <tr>\n",
       "      <th>310</th>\n",
       "      <td>689076516624</td>\n",
       "      <td>Feng Shui Luck Charms(Peaceful Life)</td>\n",
       "      <td>1.39\"</td>\n",
       "      <td>B000K0RQSE</td>\n",
       "      <td>1</td>\n",
       "      <td>Zorbitz, Inc.</td>\n",
       "      <td>Zorbitz, Inc.</td>\n",
       "      <td>Zorbitz Inc. Feng Shui Luck Charms Peaceful Li...</td>\n",
       "    </tr>\n",
       "    <tr>\n",
       "      <th>311</th>\n",
       "      <td>811200016841</td>\n",
       "      <td>Karma Kids (Love/RoseQuartz)</td>\n",
       "      <td>3.15\"</td>\n",
       "      <td>B002R8BZ02</td>\n",
       "      <td>1</td>\n",
       "      <td>Zorbitz, Inc.</td>\n",
       "      <td>Zorbitz, Inc.</td>\n",
       "      <td>ZORBITZ Rose Quartz, 1 EA</td>\n",
       "    </tr>\n",
       "  </tbody>\n",
       "</table>\n",
       "<p>312 rows × 8 columns</p>\n",
       "</div>"
      ],
      "text/plain": [
       "              UPC                           Description    SIZE        ASIN  \\\n",
       "0     28901010010       S/S 1.5 QT BOWL                  1.5 QT  B000MMQ62C   \n",
       "1     28901010027       S/S 3 QT BOWL                      3 QT  B000MMO7MI   \n",
       "2     28901010034       S/S 5 QT BOWL                      5 QT  B000MMKPFG   \n",
       "3     28901010041       S/S 8 QT BOWL                      8 QT  B000SSSS6M   \n",
       "4     28901101121       12\" LAMBSWOOL DUSTER                12\"  B001CFM9OC   \n",
       "..            ...                                   ...     ...         ...   \n",
       "307  811200014175               Art of Luck(Aventurine)   3.35\"  B0027L8RSW   \n",
       "308  689076516426     Feng Shui Luck Charms(Prosperity)   1.39\"  B00290QC9M   \n",
       "309  689076516525    Feng Shui Luck Charms(Good Health)   1.39\"  B000VUZ4H8   \n",
       "310  689076516624  Feng Shui Luck Charms(Peaceful Life)   1.39\"  B000K0RQSE   \n",
       "311  811200016841          Karma Kids (Love/RoseQuartz)   3.15\"  B002R8BZ02   \n",
       "\n",
       "     Pack_QTY          Brand   Manufacturer  \\\n",
       "0           1         Norpro         Norpro   \n",
       "1           1         Norpro         Norpro   \n",
       "2           1         Norpro         Norpro   \n",
       "3           1         Norpro         Norpro   \n",
       "4           1         Norpro         Norpro   \n",
       "..        ...            ...            ...   \n",
       "307         1  Zorbitz, Inc.  Zorbitz, Inc.   \n",
       "308         1  Zorbitz, Inc.  Zorbitz, Inc.   \n",
       "309         1  Zorbitz, Inc.  Zorbitz, Inc.   \n",
       "310         1  Zorbitz, Inc.  Zorbitz, Inc.   \n",
       "311         1  Zorbitz, Inc.  Zorbitz, Inc.   \n",
       "\n",
       "                                 Amazon\\nProduct Title  \n",
       "0    Norpro 1001 , Silver Stainless Steel Bowl, 1-1...  \n",
       "1         Norpro Stainless Steel Bowl, 3-Quart, Silver  \n",
       "2                 Norpro Stainless Steel Bowl, 5-Quart  \n",
       "3                 Norpro Stainless Steel Bowl, 8-Quart  \n",
       "4                    Norpro Pure Lambswool Duster, 12\"  \n",
       "..                                                 ...  \n",
       "307  Art of Luck Bracelets Wealth Luck Aventurine L...  \n",
       "308     ZORBITZ Feng Shui Luck Charms Prosperity, 1 EA  \n",
       "309    ZORBITZ Feng Shui Luck Charms Good Health, 1 EA  \n",
       "310  Zorbitz Inc. Feng Shui Luck Charms Peaceful Li...  \n",
       "311                          ZORBITZ Rose Quartz, 1 EA  \n",
       "\n",
       "[312 rows x 8 columns]"
      ]
     },
     "execution_count": 3,
     "metadata": {},
     "output_type": "execute_result"
    }
   ],
   "source": [
    "data"
   ]
  },
  {
   "cell_type": "code",
   "execution_count": 27,
   "id": "28e65f0a",
   "metadata": {
    "scrolled": true
   },
   "outputs": [],
   "source": [
    "data_description = data['Description']\n",
    "data_Amazon = data['Amazon\\nProduct Title']"
   ]
  },
  {
   "cell_type": "code",
   "execution_count": 26,
   "id": "9283f008",
   "metadata": {},
   "outputs": [
    {
     "data": {
      "text/plain": [
       "0           S/S 1.5 QT BOWL                \n",
       "1           S/S 3 QT BOWL                  \n",
       "2           S/S 5 QT BOWL                  \n",
       "3           S/S 8 QT BOWL                  \n",
       "4           12\" LAMBSWOOL DUSTER           \n",
       "                       ...                 \n",
       "307                 Art of Luck(Aventurine)\n",
       "308       Feng Shui Luck Charms(Prosperity)\n",
       "309      Feng Shui Luck Charms(Good Health)\n",
       "310    Feng Shui Luck Charms(Peaceful Life)\n",
       "311            Karma Kids (Love/RoseQuartz)\n",
       "Name: Description, Length: 312, dtype: object"
      ]
     },
     "execution_count": 26,
     "metadata": {},
     "output_type": "execute_result"
    }
   ],
   "source": [
    "data['Description']"
   ]
  },
  {
   "cell_type": "code",
   "execution_count": 28,
   "id": "7d0ab500",
   "metadata": {},
   "outputs": [],
   "source": [
    "from nltk.tokenize import WhitespaceTokenizer"
   ]
  },
  {
   "cell_type": "code",
   "execution_count": 29,
   "id": "eaa57e63",
   "metadata": {},
   "outputs": [],
   "source": [
    "tk = WhitespaceTokenizer()"
   ]
  },
  {
   "cell_type": "code",
   "execution_count": 30,
   "id": "9f75704e",
   "metadata": {},
   "outputs": [],
   "source": [
    "corpus = []"
   ]
  },
  {
   "cell_type": "code",
   "execution_count": 8,
   "id": "ea92e72a",
   "metadata": {},
   "outputs": [],
   "source": [
    "# li = tk.tokenize(data_needed)\n",
    "for element in data_description:\n",
    "    corpus.append(tk.tokenize(element))\n",
    "for element in data_Amazon:\n",
    "    corpus.append(tk.tokenize(element))\n"
   ]
  },
  {
   "cell_type": "code",
   "execution_count": 9,
   "id": "f4a8e1f0",
   "metadata": {},
   "outputs": [
    {
     "name": "stderr",
     "output_type": "stream",
     "text": [
      "[nltk_data] Downloading package wordnet to\n",
      "[nltk_data]     C:\\Users\\praka\\AppData\\Roaming\\nltk_data...\n",
      "[nltk_data]   Package wordnet is already up-to-date!\n"
     ]
    }
   ],
   "source": [
    "from nltk.stem import WordNetLemmatizer\n",
    "import nltk\n",
    "nltk.download('wordnet')\n",
    "lemmatizer = WordNetLemmatizer()\n"
   ]
  },
  {
   "cell_type": "code",
   "execution_count": 10,
   "id": "9462da68",
   "metadata": {},
   "outputs": [
    {
     "data": {
      "text/plain": [
       "'k/s'"
      ]
     },
     "execution_count": 10,
     "metadata": {},
     "output_type": "execute_result"
    }
   ],
   "source": [
    "lemmatizer.lemmatize('k/s')"
   ]
  },
  {
   "cell_type": "code",
   "execution_count": 15,
   "id": "ee613ad9",
   "metadata": {},
   "outputs": [],
   "source": [
    "lemmatized_corpus = [[lemmatizer.lemmatize(word.lower()) for word in elements] for elements in corpus]\n",
    "    \n",
    "    "
   ]
  },
  {
   "cell_type": "code",
   "execution_count": 16,
   "id": "53b4eb20",
   "metadata": {},
   "outputs": [],
   "source": [
    "model = gensim.models.Word2Vec(\n",
    "window=1,\n",
    "min_count=3,\n",
    "workers=4)"
   ]
  },
  {
   "cell_type": "code",
   "execution_count": 17,
   "id": "825ef3b4",
   "metadata": {},
   "outputs": [],
   "source": [
    "model.build_vocab(lemmatized_corpus, )"
   ]
  },
  {
   "cell_type": "code",
   "execution_count": 18,
   "id": "6bbee224",
   "metadata": {},
   "outputs": [
    {
     "data": {
      "text/plain": [
       "5"
      ]
     },
     "execution_count": 18,
     "metadata": {},
     "output_type": "execute_result"
    }
   ],
   "source": [
    "model.epochs"
   ]
  },
  {
   "cell_type": "code",
   "execution_count": 19,
   "id": "545eb1da",
   "metadata": {},
   "outputs": [
    {
     "data": {
      "text/plain": [
       "312"
      ]
     },
     "execution_count": 19,
     "metadata": {},
     "output_type": "execute_result"
    }
   ],
   "source": [
    "model.corpus_count"
   ]
  },
  {
   "cell_type": "code",
   "execution_count": 20,
   "id": "753dc09e",
   "metadata": {},
   "outputs": [
    {
     "data": {
      "text/plain": [
       "(167226, 391400)"
      ]
     },
     "execution_count": 20,
     "metadata": {},
     "output_type": "execute_result"
    }
   ],
   "source": [
    "model.train(lemmatized_corpus, total_examples=model.corpus_count, epochs=100)"
   ]
  },
  {
   "cell_type": "code",
   "execution_count": 21,
   "id": "139ee8c8",
   "metadata": {},
   "outputs": [],
   "source": [
    "# model.save(\"1stmodel.model\")"
   ]
  },
  {
   "cell_type": "code",
   "execution_count": 22,
   "id": "6f1edc71",
   "metadata": {},
   "outputs": [
    {
     "data": {
      "text/plain": [
       "[('krona', 0.9437205195426941),\n",
       " ('s/s', 0.9435660243034363),\n",
       " ('12-inch', 0.9408397078514099),\n",
       " ('whisk', 0.9368661642074585),\n",
       " ('spoon,', 0.9304746389389038),\n",
       " ('turner,', 0.9235499501228333),\n",
       " ('spoon', 0.9221095442771912),\n",
       " ('slotted', 0.9192739129066467),\n",
       " ('norpro,', 0.9163472056388855),\n",
       " ('8\"', 0.9159535765647888)]"
      ]
     },
     "execution_count": 22,
     "metadata": {},
     "output_type": "execute_result"
    }
   ],
   "source": [
    "model.wv.most_similar('12\"')"
   ]
  },
  {
   "cell_type": "code",
   "execution_count": null,
   "id": "f05fa7dd",
   "metadata": {},
   "outputs": [],
   "source": []
  },
  {
   "cell_type": "code",
   "execution_count": null,
   "id": "9032e04a",
   "metadata": {},
   "outputs": [],
   "source": []
  }
 ],
 "metadata": {
  "kernelspec": {
   "display_name": "Python 3",
   "language": "python",
   "name": "python3"
  },
  "language_info": {
   "codemirror_mode": {
    "name": "ipython",
    "version": 3
   },
   "file_extension": ".py",
   "mimetype": "text/x-python",
   "name": "python",
   "nbconvert_exporter": "python",
   "pygments_lexer": "ipython3",
   "version": "3.8.0"
  }
 },
 "nbformat": 4,
 "nbformat_minor": 5
}
